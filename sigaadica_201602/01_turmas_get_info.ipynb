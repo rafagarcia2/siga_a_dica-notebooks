{
 "cells": [
  {
   "cell_type": "markdown",
   "metadata": {},
   "source": [
    "# Extraindo informações sobre as turmas\n",
    "Esse notebook tem como objetivo utilizar os datasets de matriculas e turmas para pegar gerar informações a respeito das turmas."
   ]
  },
  {
   "cell_type": "code",
   "execution_count": 3,
   "metadata": {},
   "outputs": [],
   "source": [
    "import pandas as pd\n",
    "import numpy as np"
   ]
  },
  {
   "cell_type": "code",
   "execution_count": 4,
   "metadata": {},
   "outputs": [],
   "source": [
    "matriculas = pd.read_csv(\"data/matriculas-de-2016.2.csv\", sep=\";\")"
   ]
  },
  {
   "cell_type": "code",
   "execution_count": 5,
   "metadata": {},
   "outputs": [],
   "source": [
    "# Pegando apenas as turmas de CeT\n",
    "matriculas_cet = matriculas[matriculas.id_curso == 10320810]"
   ]
  },
  {
   "cell_type": "code",
   "execution_count": 6,
   "metadata": {},
   "outputs": [
    {
     "data": {
      "text/plain": [
       "array(['CANCELADO', 'APROVADO', 'TRANCADO',\n",
       "       'REPROVADO POR MÉDIA E POR FALTAS', 'APROVADO POR NOTA',\n",
       "       'INDEFERIDO', 'DESISTENCIA', 'REPROVADO', 'REPROVADO POR NOTA',\n",
       "       'EXCLUIDA', 'REPROVADO POR NOTA E FALTA', 'REPROVADO POR FALTAS'],\n",
       "      dtype=object)"
      ]
     },
     "execution_count": 6,
     "metadata": {},
     "output_type": "execute_result"
    }
   ],
   "source": [
    "matriculas_cet.descricao.unique()"
   ]
  },
  {
   "cell_type": "code",
   "execution_count": 7,
   "metadata": {},
   "outputs": [],
   "source": [
    "# Pegar apenas quem começou a pagar a materia\n",
    "\n",
    "indesejada = ['DESISTENCIA', 'INDEFERIDO']\n",
    "\n",
    "matriculas_cet = matriculas_cet[~matriculas_cet.descricao.isin(indesejada)]"
   ]
  },
  {
   "cell_type": "code",
   "execution_count": 8,
   "metadata": {},
   "outputs": [],
   "source": [
    "# matriculas_cet[matriculas_cet.descricao == 'CANCELADO']"
   ]
  },
  {
   "cell_type": "code",
   "execution_count": 9,
   "metadata": {},
   "outputs": [
    {
     "data": {
      "text/plain": [
       "(64153, 11)"
      ]
     },
     "execution_count": 9,
     "metadata": {},
     "output_type": "execute_result"
    }
   ],
   "source": [
    "matriculas_cet.shape"
   ]
  },
  {
   "cell_type": "code",
   "execution_count": 10,
   "metadata": {},
   "outputs": [
    {
     "data": {
      "text/plain": [
       "Index(['id_turma', 'discente', 'id_curso', 'unidade', 'nota', 'reposicao',\n",
       "       'faltas_unidade', 'media_final', 'numero_total_faltas', 'descricao',\n",
       "       'Unnamed: 10'],\n",
       "      dtype='object')"
      ]
     },
     "execution_count": 10,
     "metadata": {},
     "output_type": "execute_result"
    }
   ],
   "source": [
    "matriculas_cet.columns"
   ]
  },
  {
   "cell_type": "code",
   "execution_count": 11,
   "metadata": {},
   "outputs": [],
   "source": [
    "novo = matriculas_cet.drop_duplicates(subset=['id_turma', 'discente'])\n",
    "novo = novo.dropna(subset=['media_final', 'numero_total_faltas'])"
   ]
  },
  {
   "cell_type": "code",
   "execution_count": 12,
   "metadata": {
    "scrolled": true
   },
   "outputs": [
    {
     "data": {
      "text/html": [
       "<div>\n",
       "<style scoped>\n",
       "    .dataframe tbody tr th:only-of-type {\n",
       "        vertical-align: middle;\n",
       "    }\n",
       "\n",
       "    .dataframe tbody tr th {\n",
       "        vertical-align: top;\n",
       "    }\n",
       "\n",
       "    .dataframe thead th {\n",
       "        text-align: right;\n",
       "    }\n",
       "</style>\n",
       "<table border=\"1\" class=\"dataframe\">\n",
       "  <thead>\n",
       "    <tr style=\"text-align: right;\">\n",
       "      <th></th>\n",
       "      <th>id_turma</th>\n",
       "      <th>discente</th>\n",
       "      <th>id_curso</th>\n",
       "      <th>unidade</th>\n",
       "      <th>nota</th>\n",
       "      <th>reposicao</th>\n",
       "      <th>faltas_unidade</th>\n",
       "      <th>media_final</th>\n",
       "      <th>numero_total_faltas</th>\n",
       "      <th>descricao</th>\n",
       "      <th>Unnamed: 10</th>\n",
       "    </tr>\n",
       "  </thead>\n",
       "  <tbody>\n",
       "    <tr>\n",
       "      <th>380</th>\n",
       "      <td>57586700</td>\n",
       "      <td>1470770112749dc578c39fb86d139215</td>\n",
       "      <td>10320810.0</td>\n",
       "      <td>1.0</td>\n",
       "      <td>8.7</td>\n",
       "      <td>f</td>\n",
       "      <td>0.0</td>\n",
       "      <td>7.9</td>\n",
       "      <td>4.0</td>\n",
       "      <td>APROVADO</td>\n",
       "      <td>NaN</td>\n",
       "    </tr>\n",
       "    <tr>\n",
       "      <th>386</th>\n",
       "      <td>57586700</td>\n",
       "      <td>6b8e7705214ba419989eb54ca71ad283</td>\n",
       "      <td>10320810.0</td>\n",
       "      <td>1.0</td>\n",
       "      <td>0.0</td>\n",
       "      <td>f</td>\n",
       "      <td>0.0</td>\n",
       "      <td>0.0</td>\n",
       "      <td>54.0</td>\n",
       "      <td>CANCELADO</td>\n",
       "      <td>NaN</td>\n",
       "    </tr>\n",
       "    <tr>\n",
       "      <th>389</th>\n",
       "      <td>57586700</td>\n",
       "      <td>466406941f0280b618af91a513365eeb</td>\n",
       "      <td>10320810.0</td>\n",
       "      <td>1.0</td>\n",
       "      <td>4.7</td>\n",
       "      <td>f</td>\n",
       "      <td>0.0</td>\n",
       "      <td>3.9</td>\n",
       "      <td>12.0</td>\n",
       "      <td>CANCELADO</td>\n",
       "      <td>NaN</td>\n",
       "    </tr>\n",
       "    <tr>\n",
       "      <th>392</th>\n",
       "      <td>57586700</td>\n",
       "      <td>fa33216eec66570333dcf92214b5cebc</td>\n",
       "      <td>10320810.0</td>\n",
       "      <td>1.0</td>\n",
       "      <td>3.6</td>\n",
       "      <td>f</td>\n",
       "      <td>0.0</td>\n",
       "      <td>2.3</td>\n",
       "      <td>36.0</td>\n",
       "      <td>REPROVADO POR MÉDIA E POR FALTAS</td>\n",
       "      <td>NaN</td>\n",
       "    </tr>\n",
       "    <tr>\n",
       "      <th>395</th>\n",
       "      <td>57586700</td>\n",
       "      <td>7f3f3f94469b917f27ca1797af4bf542</td>\n",
       "      <td>10320810.0</td>\n",
       "      <td>1.0</td>\n",
       "      <td>9.9</td>\n",
       "      <td>f</td>\n",
       "      <td>0.0</td>\n",
       "      <td>8.0</td>\n",
       "      <td>6.0</td>\n",
       "      <td>APROVADO</td>\n",
       "      <td>NaN</td>\n",
       "    </tr>\n",
       "  </tbody>\n",
       "</table>\n",
       "</div>"
      ],
      "text/plain": [
       "     id_turma                          discente    id_curso  unidade  nota  \\\n",
       "380  57586700  1470770112749dc578c39fb86d139215  10320810.0      1.0   8.7   \n",
       "386  57586700  6b8e7705214ba419989eb54ca71ad283  10320810.0      1.0   0.0   \n",
       "389  57586700  466406941f0280b618af91a513365eeb  10320810.0      1.0   4.7   \n",
       "392  57586700  fa33216eec66570333dcf92214b5cebc  10320810.0      1.0   3.6   \n",
       "395  57586700  7f3f3f94469b917f27ca1797af4bf542  10320810.0      1.0   9.9   \n",
       "\n",
       "    reposicao  faltas_unidade  media_final  numero_total_faltas  \\\n",
       "380         f             0.0          7.9                  4.0   \n",
       "386         f             0.0          0.0                 54.0   \n",
       "389         f             0.0          3.9                 12.0   \n",
       "392         f             0.0          2.3                 36.0   \n",
       "395         f             0.0          8.0                  6.0   \n",
       "\n",
       "                            descricao  Unnamed: 10  \n",
       "380                          APROVADO          NaN  \n",
       "386                         CANCELADO          NaN  \n",
       "389                         CANCELADO          NaN  \n",
       "392  REPROVADO POR MÉDIA E POR FALTAS          NaN  \n",
       "395                          APROVADO          NaN  "
      ]
     },
     "execution_count": 12,
     "metadata": {},
     "output_type": "execute_result"
    }
   ],
   "source": [
    "novo.shape\n",
    "novo.head()"
   ]
  },
  {
   "cell_type": "code",
   "execution_count": 13,
   "metadata": {},
   "outputs": [
    {
     "data": {
      "text/plain": [
       "Index(['id_turma', 'discente', 'id_curso', 'unidade', 'nota', 'reposicao',\n",
       "       'faltas_unidade', 'media_final', 'numero_total_faltas', 'descricao',\n",
       "       'Unnamed: 10'],\n",
       "      dtype='object')"
      ]
     },
     "execution_count": 13,
     "metadata": {},
     "output_type": "execute_result"
    }
   ],
   "source": [
    "novo.columns"
   ]
  },
  {
   "cell_type": "markdown",
   "metadata": {},
   "source": [
    "## Extraindo as informações estatísticas"
   ]
  },
  {
   "cell_type": "code",
   "execution_count": 14,
   "metadata": {},
   "outputs": [],
   "source": [
    "# Calculando qnt_disc\n",
    "qnt_disc = novo.groupby('id_turma', as_index=False)['media_final'].count() \\\n",
    "                    .rename(columns={'media_final': 'qnt_disc'})\n",
    "\n",
    "# Calculando media_turma\n",
    "media_turma = novo.groupby('id_turma', as_index=False)['media_final'].mean() \\\n",
    "                    .rename(columns={'media_final': 'media_turma'})\n",
    "\n",
    "# Calculando media_faltas\n",
    "media_faltas = novo.groupby('id_turma', as_index=False)['numero_total_faltas'].mean() \\\n",
    "                    .rename(columns={'numero_total_faltas': 'media_faltas'})\n",
    "\n",
    "# Calculando qnt_reposicao\n",
    "qnt_reposicao = novo[novo.reposicao == 't'].groupby('id_turma', as_index=False)['reposicao'].count() \\\n",
    "                    .rename(columns={'reposicao': 'qnt_reposicao'})\n",
    "\n",
    "# Calculando qnt_aprovados\n",
    "aprovados = ['APROVADO', 'APROVADO POR NOTA']\n",
    "qnt_aprovados = novo[novo.descricao.isin(aprovados)].groupby('id_turma', as_index=False)['descricao'].count() \\\n",
    "                    .rename(columns={'descricao': 'qnt_aprovados'})\n",
    "\n",
    "# Calculando qnt_reprovados\n",
    "reprovado = ['REPROVADO', 'REPROVADO POR NOTA', 'REPROVADO POR FALTAS', \n",
    "             'REPROVADO POR NOTA E FALTA', 'REPROVADO POR MÉDIA E POR FALTAS']\n",
    "qnt_reprovados = novo[novo.descricao.isin(reprovado)].groupby('id_turma', as_index=False)['descricao'].count() \\\n",
    "                    .rename(columns={'descricao': 'qnt_reprovados'})\n",
    "\n",
    "# Calculando qnt_trancamento\n",
    "trancado = ['CANCELADO', 'EXCLUIDA', 'TRANCADO']\n",
    "qnt_trancamento = novo[novo.descricao.isin(trancado)].groupby('id_turma', as_index=False)['descricao'].count() \\\n",
    "                    .rename(columns={'descricao': 'qnt_trancamento'})"
   ]
  },
  {
   "cell_type": "code",
   "execution_count": 15,
   "metadata": {},
   "outputs": [],
   "source": [
    "# mesclando os datasets\n",
    "turmas = pd.merge(left=qnt_disc, right=qnt_aprovados, how='outer')\n",
    "turmas = pd.merge(left=turmas, right=qnt_reprovados, how='outer')\n",
    "turmas = pd.merge(left=turmas, right=qnt_trancamento, how='outer')"
   ]
  },
  {
   "cell_type": "code",
   "execution_count": 16,
   "metadata": {},
   "outputs": [
    {
     "data": {
      "text/html": [
       "<div>\n",
       "<style scoped>\n",
       "    .dataframe tbody tr th:only-of-type {\n",
       "        vertical-align: middle;\n",
       "    }\n",
       "\n",
       "    .dataframe tbody tr th {\n",
       "        vertical-align: top;\n",
       "    }\n",
       "\n",
       "    .dataframe thead th {\n",
       "        text-align: right;\n",
       "    }\n",
       "</style>\n",
       "<table border=\"1\" class=\"dataframe\">\n",
       "  <thead>\n",
       "    <tr style=\"text-align: right;\">\n",
       "      <th></th>\n",
       "      <th>id_turma</th>\n",
       "      <th>qnt_disc</th>\n",
       "      <th>qnt_aprovados</th>\n",
       "      <th>qnt_reprovados</th>\n",
       "      <th>qnt_trancamento</th>\n",
       "    </tr>\n",
       "  </thead>\n",
       "  <tbody>\n",
       "    <tr>\n",
       "      <th>101</th>\n",
       "      <td>57585662</td>\n",
       "      <td>125</td>\n",
       "      <td>54.0</td>\n",
       "      <td>61.0</td>\n",
       "      <td>10.0</td>\n",
       "    </tr>\n",
       "    <tr>\n",
       "      <th>102</th>\n",
       "      <td>57585665</td>\n",
       "      <td>113</td>\n",
       "      <td>45.0</td>\n",
       "      <td>65.0</td>\n",
       "      <td>3.0</td>\n",
       "    </tr>\n",
       "    <tr>\n",
       "      <th>104</th>\n",
       "      <td>57585668</td>\n",
       "      <td>102</td>\n",
       "      <td>69.0</td>\n",
       "      <td>31.0</td>\n",
       "      <td>2.0</td>\n",
       "    </tr>\n",
       "    <tr>\n",
       "      <th>111</th>\n",
       "      <td>57585689</td>\n",
       "      <td>126</td>\n",
       "      <td>113.0</td>\n",
       "      <td>13.0</td>\n",
       "      <td>NaN</td>\n",
       "    </tr>\n",
       "    <tr>\n",
       "      <th>115</th>\n",
       "      <td>57585695</td>\n",
       "      <td>132</td>\n",
       "      <td>56.0</td>\n",
       "      <td>68.0</td>\n",
       "      <td>8.0</td>\n",
       "    </tr>\n",
       "  </tbody>\n",
       "</table>\n",
       "</div>"
      ],
      "text/plain": [
       "     id_turma  qnt_disc  qnt_aprovados  qnt_reprovados  qnt_trancamento\n",
       "101  57585662       125           54.0            61.0             10.0\n",
       "102  57585665       113           45.0            65.0              3.0\n",
       "104  57585668       102           69.0            31.0              2.0\n",
       "111  57585689       126          113.0            13.0              NaN\n",
       "115  57585695       132           56.0            68.0              8.0"
      ]
     },
     "execution_count": 16,
     "metadata": {},
     "output_type": "execute_result"
    }
   ],
   "source": [
    "turmas[turmas.qnt_disc > 100].head()"
   ]
  },
  {
   "cell_type": "code",
   "execution_count": 17,
   "metadata": {},
   "outputs": [],
   "source": [
    "# Realizando o merge com as demais informações\n",
    "turma_geral = pd.merge(left=turmas, right=media_turma, how='outer')\n",
    "turma_geral = pd.merge(left=turma_geral, right=media_faltas, how='outer')\n",
    "turma_geral = pd.merge(left=turma_geral, right=qnt_reposicao, how='outer')\n",
    "\n",
    "# Preenchendo os valores vazios com 0\n",
    "turma_geral = turma_geral.fillna(value=0)"
   ]
  },
  {
   "cell_type": "code",
   "execution_count": 18,
   "metadata": {},
   "outputs": [],
   "source": [
    "turma_geral.to_csv('outputs/turmas_dados_2016_2.csv', sep=';', index=False)"
   ]
  }
 ],
 "metadata": {
  "kernelspec": {
   "display_name": "Python 3",
   "language": "python",
   "name": "python3"
  },
  "language_info": {
   "codemirror_mode": {
    "name": "ipython",
    "version": 3
   },
   "file_extension": ".py",
   "mimetype": "text/x-python",
   "name": "python",
   "nbconvert_exporter": "python",
   "pygments_lexer": "ipython3",
   "version": "3.6.7"
  }
 },
 "nbformat": 4,
 "nbformat_minor": 2
}
