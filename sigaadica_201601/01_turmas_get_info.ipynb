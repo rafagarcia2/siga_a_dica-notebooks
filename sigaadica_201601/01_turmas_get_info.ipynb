{
 "cells": [
  {
   "cell_type": "markdown",
   "metadata": {},
   "source": [
    "# Extraindo informações sobre as turmas\n",
    "Esse notebook tem como objetivo utilizar os datasets de matriculas e turmas para pegar gerar informações a respeito das turmas."
   ]
  },
  {
   "cell_type": "code",
   "execution_count": 2,
   "metadata": {},
   "outputs": [],
   "source": [
    "import pandas as pd\n",
    "import numpy as np"
   ]
  },
  {
   "cell_type": "code",
   "execution_count": 3,
   "metadata": {},
   "outputs": [],
   "source": [
    "matriculas = pd.read_csv(\"data/matriculas-de-2016.1.csv\", sep=\";\")"
   ]
  },
  {
   "cell_type": "code",
   "execution_count": 4,
   "metadata": {},
   "outputs": [],
   "source": [
    "# Pegando apenas as turmas de CeT\n",
    "matriculas_cet = matriculas[matriculas.id_curso == 10320810]"
   ]
  },
  {
   "cell_type": "code",
   "execution_count": 5,
   "metadata": {},
   "outputs": [
    {
     "data": {
      "text/plain": [
       "array(['REPROVADO', 'APROVADO POR NOTA', 'INDEFERIDO', 'EXCLUIDA',\n",
       "       'TRANCADO', 'CANCELADO', 'DESISTENCIA',\n",
       "       'REPROVADO POR MÉDIA E POR FALTAS', 'APROVADO',\n",
       "       'REPROVADO POR NOTA', 'REPROVADO POR FALTAS',\n",
       "       'REPROVADO POR NOTA E FALTA'], dtype=object)"
      ]
     },
     "execution_count": 5,
     "metadata": {},
     "output_type": "execute_result"
    }
   ],
   "source": [
    "matriculas_cet.descricao.unique()"
   ]
  },
  {
   "cell_type": "code",
   "execution_count": 6,
   "metadata": {},
   "outputs": [],
   "source": [
    "# Pegar apenas quem começou a pagar a materia\n",
    "\n",
    "indesejada = ['DESISTENCIA', 'INDEFERIDO']\n",
    "\n",
    "matriculas_cet = matriculas_cet[~matriculas_cet.descricao.isin(indesejada)]"
   ]
  },
  {
   "cell_type": "code",
   "execution_count": 7,
   "metadata": {},
   "outputs": [],
   "source": [
    "# matriculas_cet[matriculas_cet.descricao == 'CANCELADO']"
   ]
  },
  {
   "cell_type": "code",
   "execution_count": 8,
   "metadata": {},
   "outputs": [
    {
     "data": {
      "text/plain": [
       "(65977, 11)"
      ]
     },
     "execution_count": 8,
     "metadata": {},
     "output_type": "execute_result"
    }
   ],
   "source": [
    "matriculas_cet.shape"
   ]
  },
  {
   "cell_type": "code",
   "execution_count": 9,
   "metadata": {},
   "outputs": [
    {
     "data": {
      "text/plain": [
       "Index(['id_turma', 'discente', 'id_curso', 'unidade', 'nota', 'reposicao',\n",
       "       'faltas_unidade', 'media_final', 'numero_total_faltas', 'descricao',\n",
       "       'Unnamed: 10'],\n",
       "      dtype='object')"
      ]
     },
     "execution_count": 9,
     "metadata": {},
     "output_type": "execute_result"
    }
   ],
   "source": [
    "matriculas_cet.columns"
   ]
  },
  {
   "cell_type": "code",
   "execution_count": 10,
   "metadata": {},
   "outputs": [],
   "source": [
    "novo = matriculas_cet.drop_duplicates(subset=['id_turma', 'discente'])\n",
    "novo = novo.dropna(subset=['media_final', 'numero_total_faltas'])"
   ]
  },
  {
   "cell_type": "code",
   "execution_count": 11,
   "metadata": {
    "scrolled": true
   },
   "outputs": [
    {
     "data": {
      "text/html": [
       "<div>\n",
       "<style scoped>\n",
       "    .dataframe tbody tr th:only-of-type {\n",
       "        vertical-align: middle;\n",
       "    }\n",
       "\n",
       "    .dataframe tbody tr th {\n",
       "        vertical-align: top;\n",
       "    }\n",
       "\n",
       "    .dataframe thead th {\n",
       "        text-align: right;\n",
       "    }\n",
       "</style>\n",
       "<table border=\"1\" class=\"dataframe\">\n",
       "  <thead>\n",
       "    <tr style=\"text-align: right;\">\n",
       "      <th></th>\n",
       "      <th>id_turma</th>\n",
       "      <th>discente</th>\n",
       "      <th>id_curso</th>\n",
       "      <th>unidade</th>\n",
       "      <th>nota</th>\n",
       "      <th>reposicao</th>\n",
       "      <th>faltas_unidade</th>\n",
       "      <th>media_final</th>\n",
       "      <th>numero_total_faltas</th>\n",
       "      <th>descricao</th>\n",
       "      <th>Unnamed: 10</th>\n",
       "    </tr>\n",
       "  </thead>\n",
       "  <tbody>\n",
       "    <tr>\n",
       "      <th>293</th>\n",
       "      <td>57576612</td>\n",
       "      <td>86f9f0a3bb404c7499ea9e58128bf75b</td>\n",
       "      <td>10320810.0</td>\n",
       "      <td>1.0</td>\n",
       "      <td>0.0</td>\n",
       "      <td>f</td>\n",
       "      <td>0.0</td>\n",
       "      <td>0.0</td>\n",
       "      <td>20.0</td>\n",
       "      <td>REPROVADO</td>\n",
       "      <td>NaN</td>\n",
       "    </tr>\n",
       "    <tr>\n",
       "      <th>296</th>\n",
       "      <td>57576612</td>\n",
       "      <td>4fe88bee3257855047a3682450b8022c</td>\n",
       "      <td>10320810.0</td>\n",
       "      <td>1.0</td>\n",
       "      <td>6.7</td>\n",
       "      <td>f</td>\n",
       "      <td>0.0</td>\n",
       "      <td>5.6</td>\n",
       "      <td>0.0</td>\n",
       "      <td>APROVADO POR NOTA</td>\n",
       "      <td>NaN</td>\n",
       "    </tr>\n",
       "    <tr>\n",
       "      <th>299</th>\n",
       "      <td>57576612</td>\n",
       "      <td>bc82dcde9b77887210980114ffd33c42</td>\n",
       "      <td>10320810.0</td>\n",
       "      <td>1.0</td>\n",
       "      <td>5.5</td>\n",
       "      <td>f</td>\n",
       "      <td>0.0</td>\n",
       "      <td>6.1</td>\n",
       "      <td>0.0</td>\n",
       "      <td>APROVADO POR NOTA</td>\n",
       "      <td>NaN</td>\n",
       "    </tr>\n",
       "    <tr>\n",
       "      <th>302</th>\n",
       "      <td>57576612</td>\n",
       "      <td>a036073779ed35848a20788046f54bb5</td>\n",
       "      <td>10320810.0</td>\n",
       "      <td>3.0</td>\n",
       "      <td>5.8</td>\n",
       "      <td>f</td>\n",
       "      <td>0.0</td>\n",
       "      <td>5.0</td>\n",
       "      <td>0.0</td>\n",
       "      <td>APROVADO POR NOTA</td>\n",
       "      <td>NaN</td>\n",
       "    </tr>\n",
       "    <tr>\n",
       "      <th>305</th>\n",
       "      <td>57576612</td>\n",
       "      <td>bf1b0128073eeb0a9e64bacf7f5c5c81</td>\n",
       "      <td>10320810.0</td>\n",
       "      <td>2.0</td>\n",
       "      <td>3.4</td>\n",
       "      <td>f</td>\n",
       "      <td>0.0</td>\n",
       "      <td>2.2</td>\n",
       "      <td>0.0</td>\n",
       "      <td>REPROVADO</td>\n",
       "      <td>NaN</td>\n",
       "    </tr>\n",
       "  </tbody>\n",
       "</table>\n",
       "</div>"
      ],
      "text/plain": [
       "     id_turma                          discente    id_curso  unidade  nota  \\\n",
       "293  57576612  86f9f0a3bb404c7499ea9e58128bf75b  10320810.0      1.0   0.0   \n",
       "296  57576612  4fe88bee3257855047a3682450b8022c  10320810.0      1.0   6.7   \n",
       "299  57576612  bc82dcde9b77887210980114ffd33c42  10320810.0      1.0   5.5   \n",
       "302  57576612  a036073779ed35848a20788046f54bb5  10320810.0      3.0   5.8   \n",
       "305  57576612  bf1b0128073eeb0a9e64bacf7f5c5c81  10320810.0      2.0   3.4   \n",
       "\n",
       "    reposicao  faltas_unidade  media_final  numero_total_faltas  \\\n",
       "293         f             0.0          0.0                 20.0   \n",
       "296         f             0.0          5.6                  0.0   \n",
       "299         f             0.0          6.1                  0.0   \n",
       "302         f             0.0          5.0                  0.0   \n",
       "305         f             0.0          2.2                  0.0   \n",
       "\n",
       "             descricao  Unnamed: 10  \n",
       "293          REPROVADO          NaN  \n",
       "296  APROVADO POR NOTA          NaN  \n",
       "299  APROVADO POR NOTA          NaN  \n",
       "302  APROVADO POR NOTA          NaN  \n",
       "305          REPROVADO          NaN  "
      ]
     },
     "execution_count": 11,
     "metadata": {},
     "output_type": "execute_result"
    }
   ],
   "source": [
    "novo.shape\n",
    "novo.head()"
   ]
  },
  {
   "cell_type": "code",
   "execution_count": 12,
   "metadata": {},
   "outputs": [
    {
     "data": {
      "text/plain": [
       "Index(['id_turma', 'discente', 'id_curso', 'unidade', 'nota', 'reposicao',\n",
       "       'faltas_unidade', 'media_final', 'numero_total_faltas', 'descricao',\n",
       "       'Unnamed: 10'],\n",
       "      dtype='object')"
      ]
     },
     "execution_count": 12,
     "metadata": {},
     "output_type": "execute_result"
    }
   ],
   "source": [
    "novo.columns"
   ]
  },
  {
   "cell_type": "markdown",
   "metadata": {},
   "source": [
    "## Extraindo as informações estatísticas"
   ]
  },
  {
   "cell_type": "code",
   "execution_count": 13,
   "metadata": {},
   "outputs": [],
   "source": [
    "# Calculando qnt_disc\n",
    "qnt_disc = novo.groupby('id_turma', as_index=False)['media_final'].count() \\\n",
    "                    .rename(columns={'media_final': 'qnt_disc'})\n",
    "\n",
    "# Calculando media_turma\n",
    "media_turma = novo.groupby('id_turma', as_index=False)['media_final'].mean() \\\n",
    "                    .rename(columns={'media_final': 'media_turma'})\n",
    "\n",
    "# Calculando media_faltas\n",
    "media_faltas = novo.groupby('id_turma', as_index=False)['numero_total_faltas'].mean() \\\n",
    "                    .rename(columns={'numero_total_faltas': 'media_faltas'})\n",
    "\n",
    "# Calculando qnt_reposicao\n",
    "qnt_reposicao = novo[novo.reposicao == 't'].groupby('id_turma', as_index=False)['reposicao'].count() \\\n",
    "                    .rename(columns={'reposicao': 'qnt_reposicao'})\n",
    "\n",
    "# Calculando qnt_aprovados\n",
    "aprovados = ['APROVADO', 'APROVADO POR NOTA']\n",
    "qnt_aprovados = novo[novo.descricao.isin(aprovados)].groupby('id_turma', as_index=False)['descricao'].count() \\\n",
    "                    .rename(columns={'descricao': 'qnt_aprovados'})\n",
    "\n",
    "# Calculando qnt_reprovados\n",
    "reprovado = ['REPROVADO', 'REPROVADO POR NOTA', 'REPROVADO POR FALTAS', \n",
    "             'REPROVADO POR NOTA E FALTA', 'REPROVADO POR MÉDIA E POR FALTAS']\n",
    "qnt_reprovados = novo[novo.descricao.isin(reprovado)].groupby('id_turma', as_index=False)['descricao'].count() \\\n",
    "                    .rename(columns={'descricao': 'qnt_reprovados'})\n",
    "\n",
    "# Calculando qnt_trancamento\n",
    "trancado = ['CANCELADO', 'EXCLUIDA', 'TRANCADO']\n",
    "qnt_trancamento = novo[novo.descricao.isin(trancado)].groupby('id_turma', as_index=False)['descricao'].count() \\\n",
    "                    .rename(columns={'descricao': 'qnt_trancamento'})"
   ]
  },
  {
   "cell_type": "code",
   "execution_count": 14,
   "metadata": {},
   "outputs": [],
   "source": [
    "# mesclando os datasets\n",
    "turmas = pd.merge(left=qnt_disc, right=qnt_aprovados, how='outer')\n",
    "turmas = pd.merge(left=turmas, right=qnt_reprovados, how='outer')\n",
    "turmas = pd.merge(left=turmas, right=qnt_trancamento, how='outer')"
   ]
  },
  {
   "cell_type": "code",
   "execution_count": 15,
   "metadata": {},
   "outputs": [
    {
     "data": {
      "text/html": [
       "<div>\n",
       "<style scoped>\n",
       "    .dataframe tbody tr th:only-of-type {\n",
       "        vertical-align: middle;\n",
       "    }\n",
       "\n",
       "    .dataframe tbody tr th {\n",
       "        vertical-align: top;\n",
       "    }\n",
       "\n",
       "    .dataframe thead th {\n",
       "        text-align: right;\n",
       "    }\n",
       "</style>\n",
       "<table border=\"1\" class=\"dataframe\">\n",
       "  <thead>\n",
       "    <tr style=\"text-align: right;\">\n",
       "      <th></th>\n",
       "      <th>id_turma</th>\n",
       "      <th>qnt_disc</th>\n",
       "      <th>qnt_aprovados</th>\n",
       "      <th>qnt_reprovados</th>\n",
       "      <th>qnt_trancamento</th>\n",
       "    </tr>\n",
       "  </thead>\n",
       "  <tbody>\n",
       "    <tr>\n",
       "      <th>0</th>\n",
       "      <td>57573481</td>\n",
       "      <td>112</td>\n",
       "      <td>77.0</td>\n",
       "      <td>32.0</td>\n",
       "      <td>3.0</td>\n",
       "    </tr>\n",
       "    <tr>\n",
       "      <th>1</th>\n",
       "      <td>57573482</td>\n",
       "      <td>129</td>\n",
       "      <td>76.0</td>\n",
       "      <td>49.0</td>\n",
       "      <td>4.0</td>\n",
       "    </tr>\n",
       "    <tr>\n",
       "      <th>2</th>\n",
       "      <td>57573483</td>\n",
       "      <td>124</td>\n",
       "      <td>78.0</td>\n",
       "      <td>41.0</td>\n",
       "      <td>5.0</td>\n",
       "    </tr>\n",
       "    <tr>\n",
       "      <th>3</th>\n",
       "      <td>57573484</td>\n",
       "      <td>114</td>\n",
       "      <td>40.0</td>\n",
       "      <td>65.0</td>\n",
       "      <td>9.0</td>\n",
       "    </tr>\n",
       "    <tr>\n",
       "      <th>4</th>\n",
       "      <td>57573485</td>\n",
       "      <td>103</td>\n",
       "      <td>25.0</td>\n",
       "      <td>68.0</td>\n",
       "      <td>10.0</td>\n",
       "    </tr>\n",
       "  </tbody>\n",
       "</table>\n",
       "</div>"
      ],
      "text/plain": [
       "   id_turma  qnt_disc  qnt_aprovados  qnt_reprovados  qnt_trancamento\n",
       "0  57573481       112           77.0            32.0              3.0\n",
       "1  57573482       129           76.0            49.0              4.0\n",
       "2  57573483       124           78.0            41.0              5.0\n",
       "3  57573484       114           40.0            65.0              9.0\n",
       "4  57573485       103           25.0            68.0             10.0"
      ]
     },
     "execution_count": 15,
     "metadata": {},
     "output_type": "execute_result"
    }
   ],
   "source": [
    "turmas[turmas.qnt_disc > 100].head()"
   ]
  },
  {
   "cell_type": "code",
   "execution_count": 16,
   "metadata": {},
   "outputs": [],
   "source": [
    "# Realizando o merge com as demais informações\n",
    "turma_geral = pd.merge(left=turmas, right=media_turma, how='outer')\n",
    "turma_geral = pd.merge(left=turma_geral, right=media_faltas, how='outer')\n",
    "turma_geral = pd.merge(left=turma_geral, right=qnt_reposicao, how='outer')\n",
    "\n",
    "# Preenchendo os valores vazios com 0\n",
    "turma_geral = turma_geral.fillna(value=0)"
   ]
  },
  {
   "cell_type": "code",
   "execution_count": 17,
   "metadata": {},
   "outputs": [],
   "source": [
    "turma_geral.to_csv('outputs/turmas_dados_2016_1.csv', sep=';', index=False)"
   ]
  }
 ],
 "metadata": {
  "kernelspec": {
   "display_name": "Python 3",
   "language": "python",
   "name": "python3"
  },
  "language_info": {
   "codemirror_mode": {
    "name": "ipython",
    "version": 3
   },
   "file_extension": ".py",
   "mimetype": "text/x-python",
   "name": "python",
   "nbconvert_exporter": "python",
   "pygments_lexer": "ipython3",
   "version": "3.6.7"
  }
 },
 "nbformat": 4,
 "nbformat_minor": 2
}
