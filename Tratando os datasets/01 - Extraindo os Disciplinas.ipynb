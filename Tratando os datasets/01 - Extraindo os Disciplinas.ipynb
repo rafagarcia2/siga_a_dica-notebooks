{
 "cells": [
  {
   "cell_type": "markdown",
   "metadata": {},
   "source": [
    "# Extraindo os Disciplinas Selecionadas\n",
    "## Objetivo\n",
    "Utilizar o dataset de disciplinas e de grade curricular para extrair as informações das disciplinas de determinados cursos e separa-los em um outro dataset, afim de poder salvar em um model na API."
   ]
  },
  {
   "cell_type": "code",
   "execution_count": 1,
   "metadata": {},
   "outputs": [],
   "source": [
    "import pandas as pd\n",
    "import numpy as np"
   ]
  },
  {
   "cell_type": "code",
   "execution_count": 2,
   "metadata": {},
   "outputs": [
    {
     "data": {
      "text/plain": [
       "(36079, 30)"
      ]
     },
     "execution_count": 2,
     "metadata": {},
     "output_type": "execute_result"
    }
   ],
   "source": [
    "disciplinas = pd.read_csv(\"../data/componentes-curriculares-presenciais-ok.csv\")\n",
    "disciplinas.shape"
   ]
  },
  {
   "cell_type": "code",
   "execution_count": 7,
   "metadata": {},
   "outputs": [],
   "source": [
    "#disciplinas.unidade_responsavel.unique()\n",
    "departamentos_selecionados = ['ESCOLA DE CIÊNCIAS E TECNOLOGIA', 'INSTITUTO METROPOLE DIGITAL',\n",
    "                             'DEPARTAMENTO DE ENGENHARIA DE COMPUTACAO E AUTOMACAO']\n",
    "\n",
    "disc_sel = disciplinas[disciplinas.unidade_responsavel.isin(departamentos_selecionados)]"
   ]
  },
  {
   "cell_type": "code",
   "execution_count": 4,
   "metadata": {},
   "outputs": [
    {
     "name": "stderr",
     "output_type": "stream",
     "text": [
      "/home/rafael/anaconda3/lib/python3.6/site-packages/ipykernel_launcher.py:3: SettingWithCopyWarning: \n",
      "A value is trying to be set on a copy of a slice from a DataFrame.\n",
      "Try using .loc[row_indexer,col_indexer] = value instead\n",
      "\n",
      "See the caveats in the documentation: http://pandas.pydata.org/pandas-docs/stable/indexing.html#indexing-view-versus-copy\n",
      "  This is separate from the ipykernel package so we can avoid doing imports until\n"
     ]
    }
   ],
   "source": [
    "cols = ['id_componente', 'codigo', 'nome']\n",
    "disc = disc_sel[cols]\n",
    "disc['departamento'] = disc_sel.unidade_responsavel"
   ]
  },
  {
   "cell_type": "markdown",
   "metadata": {},
   "source": [
    "# Pegando apenas Disciplinas de Grades Curriculares ATIVAS"
   ]
  },
  {
   "cell_type": "code",
   "execution_count": 10,
   "metadata": {},
   "outputs": [],
   "source": [
    "cursos = pd.read_csv(\"../data/cursos-de-graduacao.csv\", sep=\";\")\n",
    "estr_curric = pd.read_csv(\"../data/estruturas-curriculares.csv\", sep=\";\")\n",
    "curric_comp = pd.read_csv(\"../data/curriculo-componente-graduacao.csv\", sep=\";\")"
   ]
  },
  {
   "cell_type": "code",
   "execution_count": 26,
   "metadata": {},
   "outputs": [],
   "source": [
    "cursos_selecionados = ['CIÊNCIAS E TECNOLOGIA', 'TECNOLOGIA DA INFORMAÇÃO', 'ENGENHARIA DE COMPUTAÇÃO']\n",
    "cursos_sel = cursos[cursos.nome.isin(cursos_selecionados)]"
   ]
  },
  {
   "cell_type": "code",
   "execution_count": 27,
   "metadata": {},
   "outputs": [],
   "source": [
    "estr_curric_sel = estr_curric[estr_curric.id_curso.isin(cursos_sel.id_curso.unique())]"
   ]
  },
  {
   "cell_type": "code",
   "execution_count": 36,
   "metadata": {},
   "outputs": [
    {
     "data": {
      "text/html": [
       "<div>\n",
       "<style scoped>\n",
       "    .dataframe tbody tr th:only-of-type {\n",
       "        vertical-align: middle;\n",
       "    }\n",
       "\n",
       "    .dataframe tbody tr th {\n",
       "        vertical-align: top;\n",
       "    }\n",
       "\n",
       "    .dataframe thead th {\n",
       "        text-align: right;\n",
       "    }\n",
       "</style>\n",
       "<table border=\"1\" class=\"dataframe\">\n",
       "  <thead>\n",
       "    <tr style=\"text-align: right;\">\n",
       "      <th></th>\n",
       "      <th>nome_matriz</th>\n",
       "      <th>ano_entrada_vigor</th>\n",
       "    </tr>\n",
       "  </thead>\n",
       "  <tbody>\n",
       "    <tr>\n",
       "      <th>21</th>\n",
       "      <td>TECNOLOGIA DA INFORMAÇÃO - NATAL - MT - BACHAR...</td>\n",
       "      <td>2014</td>\n",
       "    </tr>\n",
       "    <tr>\n",
       "      <th>22</th>\n",
       "      <td>TECNOLOGIA DA INFORMAÇÃO - NATAL - N - BACHARE...</td>\n",
       "      <td>2014</td>\n",
       "    </tr>\n",
       "    <tr>\n",
       "      <th>44</th>\n",
       "      <td>TECNOLOGIA DA INFORMAÇÃO - NATAL - N - BACHARE...</td>\n",
       "      <td>2014</td>\n",
       "    </tr>\n",
       "    <tr>\n",
       "      <th>47</th>\n",
       "      <td>TECNOLOGIA DA INFORMAÇÃO - NATAL - MT - BACHAR...</td>\n",
       "      <td>2014</td>\n",
       "    </tr>\n",
       "    <tr>\n",
       "      <th>98</th>\n",
       "      <td>CIÊNCIAS E TECNOLOGIA - NATAL - MT - BACHARELADO</td>\n",
       "      <td>2015</td>\n",
       "    </tr>\n",
       "    <tr>\n",
       "      <th>115</th>\n",
       "      <td>TECNOLOGIA DA INFORMAÇÃO - NATAL - MT - BACHAR...</td>\n",
       "      <td>2014</td>\n",
       "    </tr>\n",
       "    <tr>\n",
       "      <th>136</th>\n",
       "      <td>CIÊNCIAS E TECNOLOGIA - NATAL - MT - BACHARELADO</td>\n",
       "      <td>2016</td>\n",
       "    </tr>\n",
       "    <tr>\n",
       "      <th>234</th>\n",
       "      <td>TECNOLOGIA DA INFORMAÇÃO - NATAL - MT - BACHAR...</td>\n",
       "      <td>2014</td>\n",
       "    </tr>\n",
       "    <tr>\n",
       "      <th>244</th>\n",
       "      <td>CIÊNCIAS E TECNOLOGIA - NATAL - MT - BACHARELADO</td>\n",
       "      <td>2016</td>\n",
       "    </tr>\n",
       "    <tr>\n",
       "      <th>254</th>\n",
       "      <td>ENGENHARIA DE COMPUTAÇÃO - NATAL - MT - FORMAÇÃO</td>\n",
       "      <td>2012</td>\n",
       "    </tr>\n",
       "    <tr>\n",
       "      <th>264</th>\n",
       "      <td>CIÊNCIAS E TECNOLOGIA - NATAL - N - BACHARELADO</td>\n",
       "      <td>2016</td>\n",
       "    </tr>\n",
       "    <tr>\n",
       "      <th>271</th>\n",
       "      <td>CIÊNCIAS E TECNOLOGIA - NATAL - N - BACHARELADO</td>\n",
       "      <td>2015</td>\n",
       "    </tr>\n",
       "    <tr>\n",
       "      <th>273</th>\n",
       "      <td>CIÊNCIAS E TECNOLOGIA - NATAL - N - BACHARELADO</td>\n",
       "      <td>2016</td>\n",
       "    </tr>\n",
       "    <tr>\n",
       "      <th>275</th>\n",
       "      <td>CIÊNCIAS E TECNOLOGIA - NATAL - MTN - BACHARELADO</td>\n",
       "      <td>2016</td>\n",
       "    </tr>\n",
       "    <tr>\n",
       "      <th>276</th>\n",
       "      <td>CIÊNCIAS E TECNOLOGIA - NATAL - N - BACHARELADO</td>\n",
       "      <td>2016</td>\n",
       "    </tr>\n",
       "    <tr>\n",
       "      <th>277</th>\n",
       "      <td>CIÊNCIAS E TECNOLOGIA - NATAL - T - BACHARELADO</td>\n",
       "      <td>2016</td>\n",
       "    </tr>\n",
       "    <tr>\n",
       "      <th>289</th>\n",
       "      <td>CIÊNCIAS E TECNOLOGIA - NATAL - MT - BACHARELADO</td>\n",
       "      <td>2016</td>\n",
       "    </tr>\n",
       "    <tr>\n",
       "      <th>299</th>\n",
       "      <td>CIÊNCIAS E TECNOLOGIA - NATAL - N - BACHARELADO</td>\n",
       "      <td>2016</td>\n",
       "    </tr>\n",
       "    <tr>\n",
       "      <th>310</th>\n",
       "      <td>CIÊNCIAS E TECNOLOGIA - NATAL - MT - BACHARELADO</td>\n",
       "      <td>2016</td>\n",
       "    </tr>\n",
       "    <tr>\n",
       "      <th>330</th>\n",
       "      <td>TECNOLOGIA DA INFORMAÇÃO - NATAL - N - BACHARE...</td>\n",
       "      <td>2014</td>\n",
       "    </tr>\n",
       "  </tbody>\n",
       "</table>\n",
       "</div>"
      ],
      "text/plain": [
       "                                           nome_matriz  ano_entrada_vigor\n",
       "21   TECNOLOGIA DA INFORMAÇÃO - NATAL - MT - BACHAR...               2014\n",
       "22   TECNOLOGIA DA INFORMAÇÃO - NATAL - N - BACHARE...               2014\n",
       "44   TECNOLOGIA DA INFORMAÇÃO - NATAL - N - BACHARE...               2014\n",
       "47   TECNOLOGIA DA INFORMAÇÃO - NATAL - MT - BACHAR...               2014\n",
       "98    CIÊNCIAS E TECNOLOGIA - NATAL - MT - BACHARELADO               2015\n",
       "115  TECNOLOGIA DA INFORMAÇÃO - NATAL - MT - BACHAR...               2014\n",
       "136   CIÊNCIAS E TECNOLOGIA - NATAL - MT - BACHARELADO               2016\n",
       "234  TECNOLOGIA DA INFORMAÇÃO - NATAL - MT - BACHAR...               2014\n",
       "244   CIÊNCIAS E TECNOLOGIA - NATAL - MT - BACHARELADO               2016\n",
       "254   ENGENHARIA DE COMPUTAÇÃO - NATAL - MT - FORMAÇÃO               2012\n",
       "264    CIÊNCIAS E TECNOLOGIA - NATAL - N - BACHARELADO               2016\n",
       "271    CIÊNCIAS E TECNOLOGIA - NATAL - N - BACHARELADO               2015\n",
       "273    CIÊNCIAS E TECNOLOGIA - NATAL - N - BACHARELADO               2016\n",
       "275  CIÊNCIAS E TECNOLOGIA - NATAL - MTN - BACHARELADO               2016\n",
       "276    CIÊNCIAS E TECNOLOGIA - NATAL - N - BACHARELADO               2016\n",
       "277    CIÊNCIAS E TECNOLOGIA - NATAL - T - BACHARELADO               2016\n",
       "289   CIÊNCIAS E TECNOLOGIA - NATAL - MT - BACHARELADO               2016\n",
       "299    CIÊNCIAS E TECNOLOGIA - NATAL - N - BACHARELADO               2016\n",
       "310   CIÊNCIAS E TECNOLOGIA - NATAL - MT - BACHARELADO               2016\n",
       "330  TECNOLOGIA DA INFORMAÇÃO - NATAL - N - BACHARE...               2014"
      ]
     },
     "execution_count": 36,
     "metadata": {},
     "output_type": "execute_result"
    }
   ],
   "source": [
    "estr_curric_sel[['nome_matriz', 'ano_entrada_vigor']]"
   ]
  },
  {
   "cell_type": "code",
   "execution_count": 5,
   "metadata": {},
   "outputs": [
    {
     "data": {
      "text/html": [
       "<div>\n",
       "<style scoped>\n",
       "    .dataframe tbody tr th:only-of-type {\n",
       "        vertical-align: middle;\n",
       "    }\n",
       "\n",
       "    .dataframe tbody tr th {\n",
       "        vertical-align: top;\n",
       "    }\n",
       "\n",
       "    .dataframe thead th {\n",
       "        text-align: right;\n",
       "    }\n",
       "</style>\n",
       "<table border=\"1\" class=\"dataframe\">\n",
       "  <thead>\n",
       "    <tr style=\"text-align: right;\">\n",
       "      <th></th>\n",
       "      <th>id_componente</th>\n",
       "      <th>codigo</th>\n",
       "      <th>nome</th>\n",
       "      <th>departamento</th>\n",
       "    </tr>\n",
       "  </thead>\n",
       "  <tbody>\n",
       "    <tr>\n",
       "      <th>192</th>\n",
       "      <td>20005</td>\n",
       "      <td>DCA0451</td>\n",
       "      <td>COMPUTACAO NUMERICA</td>\n",
       "      <td>DEPARTAMENTO DE ENGENHARIA DE COMPUTACAO E AUT...</td>\n",
       "    </tr>\n",
       "    <tr>\n",
       "      <th>193</th>\n",
       "      <td>20006</td>\n",
       "      <td>DCA0416</td>\n",
       "      <td>SISTEMAS ESPECIALISTAS APLICADOS A AUTOMACAO</td>\n",
       "      <td>DEPARTAMENTO DE ENGENHARIA DE COMPUTACAO E AUT...</td>\n",
       "    </tr>\n",
       "    <tr>\n",
       "      <th>199</th>\n",
       "      <td>20012</td>\n",
       "      <td>DCA0404</td>\n",
       "      <td>ARQUITETURA DE COMPUTADORES</td>\n",
       "      <td>DEPARTAMENTO DE ENGENHARIA DE COMPUTACAO E AUT...</td>\n",
       "    </tr>\n",
       "    <tr>\n",
       "      <th>200</th>\n",
       "      <td>20013</td>\n",
       "      <td>DCA0418</td>\n",
       "      <td>SUPERVISAO E CONTROLE OPERACIONAL DE SISTEMAS</td>\n",
       "      <td>DEPARTAMENTO DE ENGENHARIA DE COMPUTACAO E AUT...</td>\n",
       "    </tr>\n",
       "    <tr>\n",
       "      <th>201</th>\n",
       "      <td>20014</td>\n",
       "      <td>DCA0443</td>\n",
       "      <td>CONTROLADORES LOGICOS PROGRAMAVEIS</td>\n",
       "      <td>DEPARTAMENTO DE ENGENHARIA DE COMPUTACAO E AUT...</td>\n",
       "    </tr>\n",
       "  </tbody>\n",
       "</table>\n",
       "</div>"
      ],
      "text/plain": [
       "     id_componente   codigo                                           nome  \\\n",
       "192          20005  DCA0451                            COMPUTACAO NUMERICA   \n",
       "193          20006  DCA0416   SISTEMAS ESPECIALISTAS APLICADOS A AUTOMACAO   \n",
       "199          20012  DCA0404                    ARQUITETURA DE COMPUTADORES   \n",
       "200          20013  DCA0418  SUPERVISAO E CONTROLE OPERACIONAL DE SISTEMAS   \n",
       "201          20014  DCA0443             CONTROLADORES LOGICOS PROGRAMAVEIS   \n",
       "\n",
       "                                          departamento  \n",
       "192  DEPARTAMENTO DE ENGENHARIA DE COMPUTACAO E AUT...  \n",
       "193  DEPARTAMENTO DE ENGENHARIA DE COMPUTACAO E AUT...  \n",
       "199  DEPARTAMENTO DE ENGENHARIA DE COMPUTACAO E AUT...  \n",
       "200  DEPARTAMENTO DE ENGENHARIA DE COMPUTACAO E AUT...  \n",
       "201  DEPARTAMENTO DE ENGENHARIA DE COMPUTACAO E AUT...  "
      ]
     },
     "execution_count": 5,
     "metadata": {},
     "output_type": "execute_result"
    }
   ],
   "source": [
    "disc.head()"
   ]
  },
  {
   "cell_type": "code",
   "execution_count": 12,
   "metadata": {},
   "outputs": [],
   "source": [
    "disc.to_csv(\"../outputs/disciplinas-selecionadas.csv\", encoding='UTF-8', )"
   ]
  },
  {
   "cell_type": "code",
   "execution_count": null,
   "metadata": {},
   "outputs": [],
   "source": []
  }
 ],
 "metadata": {
  "kernelspec": {
   "display_name": "Python 3",
   "language": "python",
   "name": "python3"
  },
  "language_info": {
   "codemirror_mode": {
    "name": "ipython",
    "version": 3
   },
   "file_extension": ".py",
   "mimetype": "text/x-python",
   "name": "python",
   "nbconvert_exporter": "python",
   "pygments_lexer": "ipython3",
   "version": "3.6.6"
  }
 },
 "nbformat": 4,
 "nbformat_minor": 2
}
