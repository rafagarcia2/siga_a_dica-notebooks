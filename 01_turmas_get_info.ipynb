{
 "cells": [
  {
   "cell_type": "markdown",
   "metadata": {},
   "source": [
    "# Extraindo informações sobre as turmas\n",
    "Esse notebook tem como objetivo utilizar os datasets de matriculas e turmas para pegar gerar informações a respeito das turmas."
   ]
  },
  {
   "cell_type": "code",
   "execution_count": 1,
   "metadata": {},
   "outputs": [],
   "source": [
    "import pandas as pd\n",
    "import numpy as np"
   ]
  },
  {
   "cell_type": "code",
   "execution_count": 2,
   "metadata": {},
   "outputs": [],
   "source": [
    "matriculas = pd.read_csv(\"data/matricula-de-20172.csv\", sep=\";\")"
   ]
  },
  {
   "cell_type": "code",
   "execution_count": 3,
   "metadata": {},
   "outputs": [],
   "source": [
    "# Pegando apenas as turmas de CeT\n",
    "matriculas_cet = matriculas[matriculas.id_curso == 10320810]"
   ]
  },
  {
   "cell_type": "code",
   "execution_count": 4,
   "metadata": {},
   "outputs": [
    {
     "data": {
      "text/plain": [
       "array(['INDEFERIDO', 'DESISTENCIA', 'APROVADO',\n",
       "       'REPROVADO POR MÉDIA E POR FALTAS', 'APROVADO POR NOTA',\n",
       "       'CANCELADO', 'REPROVADO', 'TRANCADO', 'REPROVADO POR NOTA E FALTA',\n",
       "       'EXCLUIDA', 'REPROVADO POR NOTA', 'REPROVADO POR FALTAS'],\n",
       "      dtype=object)"
      ]
     },
     "execution_count": 4,
     "metadata": {},
     "output_type": "execute_result"
    }
   ],
   "source": [
    "matriculas_cet.descricao.unique()"
   ]
  },
  {
   "cell_type": "code",
   "execution_count": 5,
   "metadata": {},
   "outputs": [],
   "source": [
    "# Pegar apenas quem começou a pagar a materia\n",
    "\n",
    "indesejada = ['DESISTENCIA', 'INDEFERIDO']\n",
    "\n",
    "matriculas_cet = matriculas_cet[~matriculas_cet.descricao.isin(indesejada)]"
   ]
  },
  {
   "cell_type": "code",
   "execution_count": 6,
   "metadata": {},
   "outputs": [],
   "source": [
    "# matriculas_cet[matriculas_cet.descricao == 'CANCELADO']"
   ]
  },
  {
   "cell_type": "code",
   "execution_count": 7,
   "metadata": {},
   "outputs": [
    {
     "data": {
      "text/plain": [
       "(56325, 10)"
      ]
     },
     "execution_count": 7,
     "metadata": {},
     "output_type": "execute_result"
    }
   ],
   "source": [
    "matriculas_cet.shape"
   ]
  },
  {
   "cell_type": "code",
   "execution_count": 8,
   "metadata": {},
   "outputs": [
    {
     "data": {
      "text/plain": [
       "Index(['id_turma', 'discente', 'id_curso', 'unidade', 'nota', 'reposicao',\n",
       "       'faltas_unidade', 'media_final', 'numero_total_faltas', 'descricao'],\n",
       "      dtype='object')"
      ]
     },
     "execution_count": 8,
     "metadata": {},
     "output_type": "execute_result"
    }
   ],
   "source": [
    "matriculas_cet.columns"
   ]
  },
  {
   "cell_type": "code",
   "execution_count": 9,
   "metadata": {},
   "outputs": [],
   "source": [
    "novo = matriculas_cet.drop_duplicates(subset=['id_turma', 'discente'])\n",
    "novo = novo.dropna(subset=['media_final', 'numero_total_faltas'])"
   ]
  },
  {
   "cell_type": "code",
   "execution_count": 10,
   "metadata": {},
   "outputs": [
    {
     "data": {
      "text/plain": [
       "(15817, 10)"
      ]
     },
     "execution_count": 10,
     "metadata": {},
     "output_type": "execute_result"
    }
   ],
   "source": [
    "novo.shape"
   ]
  },
  {
   "cell_type": "code",
   "execution_count": 11,
   "metadata": {},
   "outputs": [
    {
     "data": {
      "text/plain": [
       "Index(['id_turma', 'discente', 'id_curso', 'unidade', 'nota', 'reposicao',\n",
       "       'faltas_unidade', 'media_final', 'numero_total_faltas', 'descricao'],\n",
       "      dtype='object')"
      ]
     },
     "execution_count": 11,
     "metadata": {},
     "output_type": "execute_result"
    }
   ],
   "source": [
    "novo.columns"
   ]
  },
  {
   "cell_type": "markdown",
   "metadata": {},
   "source": [
    "## Extraindo as informações estatísticas"
   ]
  },
  {
   "cell_type": "code",
   "execution_count": 12,
   "metadata": {},
   "outputs": [],
   "source": [
    "# Calculando qnt_disc\n",
    "qnt_discentes = novo.groupby('id_turma', as_index=False)['media_final'].count() \\\n",
    "                    .rename(columns={'media_final': 'qnt_discentes'})\n",
    "\n",
    "# Calculando media_turma\n",
    "media_turma = novo.groupby('id_turma', as_index=False)['media_final'].mean() \\\n",
    "                    .rename(columns={'media_final': 'media_turma'})\n",
    "\n",
    "# Calculando media_faltas\n",
    "media_faltas = novo.groupby('id_turma', as_index=False)['numero_total_faltas'].mean() \\\n",
    "                    .rename(columns={'numero_total_faltas': 'media_faltas'})\n",
    "\n",
    "# Calculando qnt_reposicao\n",
    "qnt_reposicao = novo[novo.reposicao == 't'].groupby('id_turma', as_index=False)['reposicao'].count() \\\n",
    "                    .rename(columns={'reposicao': 'qnt_reposicao'})\n",
    "\n",
    "# Calculando qnt_aprovados\n",
    "aprovados = ['APROVADO', 'APROVADO POR NOTA']\n",
    "qnt_aprovados = novo[novo.descricao.isin(aprovados)].groupby('id_turma', as_index=False)['descricao'].count() \\\n",
    "                    .rename(columns={'descricao': 'qnt_aprovados'})\n",
    "\n",
    "# Calculando qnt_reprovados\n",
    "reprovado = ['REPROVADO', 'REPROVADO POR NOTA', 'REPROVADO POR FALTAS', \n",
    "             'REPROVADO POR NOTA E FALTA', 'REPROVADO POR MÉDIA E POR FALTAS']\n",
    "qnt_reprovados = novo[novo.descricao.isin(reprovado)].groupby('id_turma', as_index=False)['descricao'].count() \\\n",
    "                    .rename(columns={'descricao': 'qnt_reprovacao'})\n",
    "\n",
    "# Calculando qnt_trancamento\n",
    "trancado = ['CANCELADO', 'EXCLUIDA', 'TRANCADO']\n",
    "qnt_trancamento = novo[novo.descricao.isin(trancado)].groupby('id_turma', as_index=False)['descricao'].count() \\\n",
    "                    .rename(columns={'descricao': 'qnt_trancamentos'})"
   ]
  },
  {
   "cell_type": "code",
   "execution_count": 13,
   "metadata": {},
   "outputs": [],
   "source": [
    "# mesclando os datasets\n",
    "turmas = pd.merge(left=qnt_discentes, right=qnt_aprovados, how='outer')\n",
    "turmas = pd.merge(left=turmas, right=qnt_reprovados, how='outer')\n",
    "turmas = pd.merge(left=turmas, right=qnt_trancamento, how='outer')"
   ]
  },
  {
   "cell_type": "code",
   "execution_count": 14,
   "metadata": {},
   "outputs": [],
   "source": [
    "# Realizando o merge com as demais informações\n",
    "turma_geral = pd.merge(left=turmas, right=media_turma, how='outer')\n",
    "turma_geral = pd.merge(left=turma_geral, right=media_faltas, how='outer')\n",
    "turma_geral = pd.merge(left=turma_geral, right=qnt_reposicao, how='outer')\n",
    "\n",
    "# Preenchendo os valores vazios com 0\n",
    "turma_geral = turma_geral.fillna(value=0)"
   ]
  },
  {
   "cell_type": "code",
   "execution_count": 15,
   "metadata": {},
   "outputs": [],
   "source": [
    "turma_geral['taxa_aprovacao'] = turma_geral.qnt_aprovados / turma_geral.qnt_discentes\n",
    "turma_geral['taxa_reprovacao'] = turma_geral.qnt_reprovacao / turma_geral.qnt_discentes\n",
    "turma_geral['evasao'] = turma_geral.qnt_trancamentos / turma_geral.qnt_discentes\n",
    "\n",
    "# Ainda precisa ser feito\n",
    "turma_geral['qnt_aprovados_primeira'] = 0"
   ]
  },
  {
   "cell_type": "code",
   "execution_count": 16,
   "metadata": {},
   "outputs": [
    {
     "data": {
      "text/html": [
       "<div>\n",
       "<style scoped>\n",
       "    .dataframe tbody tr th:only-of-type {\n",
       "        vertical-align: middle;\n",
       "    }\n",
       "\n",
       "    .dataframe tbody tr th {\n",
       "        vertical-align: top;\n",
       "    }\n",
       "\n",
       "    .dataframe thead th {\n",
       "        text-align: right;\n",
       "    }\n",
       "</style>\n",
       "<table border=\"1\" class=\"dataframe\">\n",
       "  <thead>\n",
       "    <tr style=\"text-align: right;\">\n",
       "      <th></th>\n",
       "      <th>id_turma</th>\n",
       "      <th>qnt_discentes</th>\n",
       "      <th>qnt_aprovados</th>\n",
       "      <th>qnt_reprovacao</th>\n",
       "      <th>qnt_trancamentos</th>\n",
       "      <th>media_turma</th>\n",
       "      <th>media_faltas</th>\n",
       "      <th>qnt_reposicao</th>\n",
       "      <th>taxa_aprovacao</th>\n",
       "      <th>taxa_reprovacao</th>\n",
       "      <th>evasao</th>\n",
       "      <th>qnt_aprovados_primeira</th>\n",
       "    </tr>\n",
       "  </thead>\n",
       "  <tbody>\n",
       "    <tr>\n",
       "      <th>89</th>\n",
       "      <td>57605512</td>\n",
       "      <td>122</td>\n",
       "      <td>48.0</td>\n",
       "      <td>65.0</td>\n",
       "      <td>9.0</td>\n",
       "      <td>3.586066</td>\n",
       "      <td>6.434426</td>\n",
       "      <td>6.0</td>\n",
       "      <td>0.393443</td>\n",
       "      <td>0.532787</td>\n",
       "      <td>0.073770</td>\n",
       "      <td>0</td>\n",
       "    </tr>\n",
       "    <tr>\n",
       "      <th>90</th>\n",
       "      <td>57605513</td>\n",
       "      <td>133</td>\n",
       "      <td>100.0</td>\n",
       "      <td>31.0</td>\n",
       "      <td>2.0</td>\n",
       "      <td>5.321805</td>\n",
       "      <td>0.000000</td>\n",
       "      <td>5.0</td>\n",
       "      <td>0.751880</td>\n",
       "      <td>0.233083</td>\n",
       "      <td>0.015038</td>\n",
       "      <td>0</td>\n",
       "    </tr>\n",
       "    <tr>\n",
       "      <th>91</th>\n",
       "      <td>57605514</td>\n",
       "      <td>122</td>\n",
       "      <td>99.0</td>\n",
       "      <td>19.0</td>\n",
       "      <td>4.0</td>\n",
       "      <td>5.781148</td>\n",
       "      <td>0.000000</td>\n",
       "      <td>3.0</td>\n",
       "      <td>0.811475</td>\n",
       "      <td>0.155738</td>\n",
       "      <td>0.032787</td>\n",
       "      <td>0</td>\n",
       "    </tr>\n",
       "    <tr>\n",
       "      <th>94</th>\n",
       "      <td>57605518</td>\n",
       "      <td>106</td>\n",
       "      <td>61.0</td>\n",
       "      <td>36.0</td>\n",
       "      <td>9.0</td>\n",
       "      <td>4.667925</td>\n",
       "      <td>12.084906</td>\n",
       "      <td>5.0</td>\n",
       "      <td>0.575472</td>\n",
       "      <td>0.339623</td>\n",
       "      <td>0.084906</td>\n",
       "      <td>0</td>\n",
       "    </tr>\n",
       "    <tr>\n",
       "      <th>97</th>\n",
       "      <td>57605523</td>\n",
       "      <td>104</td>\n",
       "      <td>37.0</td>\n",
       "      <td>63.0</td>\n",
       "      <td>4.0</td>\n",
       "      <td>2.986538</td>\n",
       "      <td>3.269231</td>\n",
       "      <td>21.0</td>\n",
       "      <td>0.355769</td>\n",
       "      <td>0.605769</td>\n",
       "      <td>0.038462</td>\n",
       "      <td>0</td>\n",
       "    </tr>\n",
       "  </tbody>\n",
       "</table>\n",
       "</div>"
      ],
      "text/plain": [
       "    id_turma  qnt_discentes  qnt_aprovados  qnt_reprovacao  qnt_trancamentos  \\\n",
       "89  57605512            122           48.0            65.0               9.0   \n",
       "90  57605513            133          100.0            31.0               2.0   \n",
       "91  57605514            122           99.0            19.0               4.0   \n",
       "94  57605518            106           61.0            36.0               9.0   \n",
       "97  57605523            104           37.0            63.0               4.0   \n",
       "\n",
       "    media_turma  media_faltas  qnt_reposicao  taxa_aprovacao  taxa_reprovacao  \\\n",
       "89     3.586066      6.434426            6.0        0.393443         0.532787   \n",
       "90     5.321805      0.000000            5.0        0.751880         0.233083   \n",
       "91     5.781148      0.000000            3.0        0.811475         0.155738   \n",
       "94     4.667925     12.084906            5.0        0.575472         0.339623   \n",
       "97     2.986538      3.269231           21.0        0.355769         0.605769   \n",
       "\n",
       "      evasao  qnt_aprovados_primeira  \n",
       "89  0.073770                       0  \n",
       "90  0.015038                       0  \n",
       "91  0.032787                       0  \n",
       "94  0.084906                       0  \n",
       "97  0.038462                       0  "
      ]
     },
     "execution_count": 16,
     "metadata": {},
     "output_type": "execute_result"
    }
   ],
   "source": [
    "turma_geral[turma_geral.qnt_discentes > 100].head()"
   ]
  },
  {
   "cell_type": "code",
   "execution_count": 17,
   "metadata": {},
   "outputs": [],
   "source": [
    "turma_geral.to_csv('outputs/turmas_dados_2017_2.csv', sep=';', index=False, encoding='UTF-8')"
   ]
  }
 ],
 "metadata": {
  "kernelspec": {
   "display_name": "Python 3",
   "language": "python",
   "name": "python3"
  },
  "language_info": {
   "codemirror_mode": {
    "name": "ipython",
    "version": 3
   },
   "file_extension": ".py",
   "mimetype": "text/x-python",
   "name": "python",
   "nbconvert_exporter": "python",
   "pygments_lexer": "ipython3",
   "version": "3.6.6"
  }
 },
 "nbformat": 4,
 "nbformat_minor": 2
}
