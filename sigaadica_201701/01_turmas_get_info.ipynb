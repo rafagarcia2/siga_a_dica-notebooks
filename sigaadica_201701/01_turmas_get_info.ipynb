{
 "cells": [
  {
   "cell_type": "markdown",
   "metadata": {},
   "source": [
    "# Extraindo informações sobre as turmas\n",
    "Esse notebook tem como objetivo utilizar os datasets de matriculas e turmas para pegar gerar informações a respeito das turmas."
   ]
  },
  {
   "cell_type": "code",
   "execution_count": 1,
   "metadata": {},
   "outputs": [],
   "source": [
    "import pandas as pd\n",
    "import numpy as np"
   ]
  },
  {
   "cell_type": "code",
   "execution_count": 2,
   "metadata": {},
   "outputs": [],
   "source": [
    "matriculas = pd.read_csv(\"data/matricula-componente-20171.csv\", sep=\";\")"
   ]
  },
  {
   "cell_type": "code",
   "execution_count": 3,
   "metadata": {},
   "outputs": [],
   "source": [
    "# Pegando apenas as turmas de CeT\n",
    "matriculas_cet = matriculas[matriculas.id_curso == 10320810]"
   ]
  },
  {
   "cell_type": "code",
   "execution_count": 4,
   "metadata": {},
   "outputs": [
    {
     "data": {
      "text/plain": [
       "array(['INDEFERIDO', 'APROVADO', 'APROVADO POR NOTA', 'CANCELADO',\n",
       "       'REPROVADO', 'DESISTENCIA', 'TRANCADO',\n",
       "       'REPROVADO POR MÉDIA E POR FALTAS', 'EXCLUIDA',\n",
       "       'REPROVADO POR NOTA', 'EM ESPERA', 'REPROVADO POR FALTAS',\n",
       "       'REPROVADO POR NOTA E FALTA'], dtype=object)"
      ]
     },
     "execution_count": 4,
     "metadata": {},
     "output_type": "execute_result"
    }
   ],
   "source": [
    "matriculas_cet.descricao.unique()"
   ]
  },
  {
   "cell_type": "code",
   "execution_count": 5,
   "metadata": {},
   "outputs": [],
   "source": [
    "# Pegar apenas quem começou a pagar a materia\n",
    "\n",
    "indesejada = ['DESISTENCIA', 'INDEFERIDO']\n",
    "\n",
    "matriculas_cet = matriculas_cet[~matriculas_cet.descricao.isin(indesejada)]"
   ]
  },
  {
   "cell_type": "code",
   "execution_count": 6,
   "metadata": {},
   "outputs": [],
   "source": [
    "# matriculas_cet[matriculas_cet.descricao == 'CANCELADO']"
   ]
  },
  {
   "cell_type": "code",
   "execution_count": 7,
   "metadata": {},
   "outputs": [
    {
     "data": {
      "text/plain": [
       "(59610, 10)"
      ]
     },
     "execution_count": 7,
     "metadata": {},
     "output_type": "execute_result"
    }
   ],
   "source": [
    "matriculas_cet.shape"
   ]
  },
  {
   "cell_type": "code",
   "execution_count": 8,
   "metadata": {},
   "outputs": [
    {
     "data": {
      "text/plain": [
       "Index(['id_turma', 'discente', 'id_curso', 'unidade', 'nota', 'reposicao',\n",
       "       'faltas_unidade', 'media_final', 'numero_total_faltas', 'descricao'],\n",
       "      dtype='object')"
      ]
     },
     "execution_count": 8,
     "metadata": {},
     "output_type": "execute_result"
    }
   ],
   "source": [
    "matriculas_cet.columns"
   ]
  },
  {
   "cell_type": "code",
   "execution_count": 9,
   "metadata": {},
   "outputs": [],
   "source": [
    "novo = matriculas_cet.drop_duplicates(subset=['id_turma', 'discente'])\n",
    "novo = novo.dropna(subset=['media_final', 'numero_total_faltas'])"
   ]
  },
  {
   "cell_type": "code",
   "execution_count": 13,
   "metadata": {},
   "outputs": [
    {
     "data": {
      "text/html": [
       "<div>\n",
       "<style scoped>\n",
       "    .dataframe tbody tr th:only-of-type {\n",
       "        vertical-align: middle;\n",
       "    }\n",
       "\n",
       "    .dataframe tbody tr th {\n",
       "        vertical-align: top;\n",
       "    }\n",
       "\n",
       "    .dataframe thead th {\n",
       "        text-align: right;\n",
       "    }\n",
       "</style>\n",
       "<table border=\"1\" class=\"dataframe\">\n",
       "  <thead>\n",
       "    <tr style=\"text-align: right;\">\n",
       "      <th></th>\n",
       "      <th>id_turma</th>\n",
       "      <th>discente</th>\n",
       "      <th>id_curso</th>\n",
       "      <th>unidade</th>\n",
       "      <th>nota</th>\n",
       "      <th>reposicao</th>\n",
       "      <th>faltas_unidade</th>\n",
       "      <th>media_final</th>\n",
       "      <th>numero_total_faltas</th>\n",
       "      <th>descricao</th>\n",
       "    </tr>\n",
       "  </thead>\n",
       "  <tbody>\n",
       "    <tr>\n",
       "      <th>455</th>\n",
       "      <td>57595855</td>\n",
       "      <td>0df99d841abe94466d686fe14e71ff34</td>\n",
       "      <td>10320810.0</td>\n",
       "      <td>1.0</td>\n",
       "      <td>8.7</td>\n",
       "      <td>f</td>\n",
       "      <td>0.0</td>\n",
       "      <td>8.7</td>\n",
       "      <td>0.0</td>\n",
       "      <td>APROVADO</td>\n",
       "    </tr>\n",
       "    <tr>\n",
       "      <th>1229</th>\n",
       "      <td>57598074</td>\n",
       "      <td>1e17512d2d5561ef70dc8c75443a18a6</td>\n",
       "      <td>10320810.0</td>\n",
       "      <td>3.0</td>\n",
       "      <td>8.9</td>\n",
       "      <td>f</td>\n",
       "      <td>0.0</td>\n",
       "      <td>8.2</td>\n",
       "      <td>10.0</td>\n",
       "      <td>APROVADO</td>\n",
       "    </tr>\n",
       "    <tr>\n",
       "      <th>1286</th>\n",
       "      <td>57599126</td>\n",
       "      <td>700f2a2dd2f5150c2638524ed5d22e1d</td>\n",
       "      <td>10320810.0</td>\n",
       "      <td>3.0</td>\n",
       "      <td>8.8</td>\n",
       "      <td>f</td>\n",
       "      <td>0.0</td>\n",
       "      <td>5.6</td>\n",
       "      <td>0.0</td>\n",
       "      <td>APROVADO POR NOTA</td>\n",
       "    </tr>\n",
       "    <tr>\n",
       "      <th>1289</th>\n",
       "      <td>57599126</td>\n",
       "      <td>4e763a0320aedffc0cb738a8b671e6ab</td>\n",
       "      <td>10320810.0</td>\n",
       "      <td>3.0</td>\n",
       "      <td>9.3</td>\n",
       "      <td>f</td>\n",
       "      <td>0.0</td>\n",
       "      <td>7.4</td>\n",
       "      <td>0.0</td>\n",
       "      <td>APROVADO</td>\n",
       "    </tr>\n",
       "    <tr>\n",
       "      <th>1292</th>\n",
       "      <td>57599126</td>\n",
       "      <td>5ff71bc1f0d4575cc05146aac69ad10c</td>\n",
       "      <td>10320810.0</td>\n",
       "      <td>2.0</td>\n",
       "      <td>0.0</td>\n",
       "      <td>f</td>\n",
       "      <td>0.0</td>\n",
       "      <td>0.0</td>\n",
       "      <td>0.0</td>\n",
       "      <td>CANCELADO</td>\n",
       "    </tr>\n",
       "  </tbody>\n",
       "</table>\n",
       "</div>"
      ],
      "text/plain": [
       "      id_turma                          discente    id_curso  unidade  nota  \\\n",
       "455   57595855  0df99d841abe94466d686fe14e71ff34  10320810.0      1.0   8.7   \n",
       "1229  57598074  1e17512d2d5561ef70dc8c75443a18a6  10320810.0      3.0   8.9   \n",
       "1286  57599126  700f2a2dd2f5150c2638524ed5d22e1d  10320810.0      3.0   8.8   \n",
       "1289  57599126  4e763a0320aedffc0cb738a8b671e6ab  10320810.0      3.0   9.3   \n",
       "1292  57599126  5ff71bc1f0d4575cc05146aac69ad10c  10320810.0      2.0   0.0   \n",
       "\n",
       "     reposicao  faltas_unidade  media_final  numero_total_faltas  \\\n",
       "455          f             0.0          8.7                  0.0   \n",
       "1229         f             0.0          8.2                 10.0   \n",
       "1286         f             0.0          5.6                  0.0   \n",
       "1289         f             0.0          7.4                  0.0   \n",
       "1292         f             0.0          0.0                  0.0   \n",
       "\n",
       "              descricao  \n",
       "455            APROVADO  \n",
       "1229           APROVADO  \n",
       "1286  APROVADO POR NOTA  \n",
       "1289           APROVADO  \n",
       "1292          CANCELADO  "
      ]
     },
     "execution_count": 13,
     "metadata": {},
     "output_type": "execute_result"
    }
   ],
   "source": [
    "novo.shape\n",
    "novo.head()"
   ]
  },
  {
   "cell_type": "code",
   "execution_count": 14,
   "metadata": {},
   "outputs": [
    {
     "data": {
      "text/plain": [
       "Index(['id_turma', 'discente', 'id_curso', 'unidade', 'nota', 'reposicao',\n",
       "       'faltas_unidade', 'media_final', 'numero_total_faltas', 'descricao'],\n",
       "      dtype='object')"
      ]
     },
     "execution_count": 14,
     "metadata": {},
     "output_type": "execute_result"
    }
   ],
   "source": [
    "novo.columns"
   ]
  },
  {
   "cell_type": "markdown",
   "metadata": {},
   "source": [
    "## Extraindo as informações estatísticas"
   ]
  },
  {
   "cell_type": "code",
   "execution_count": 15,
   "metadata": {},
   "outputs": [],
   "source": [
    "# Calculando qnt_disc\n",
    "qnt_disc = novo.groupby('id_turma', as_index=False)['media_final'].count() \\\n",
    "                    .rename(columns={'media_final': 'qnt_disc'})\n",
    "\n",
    "# Calculando media_turma\n",
    "media_turma = novo.groupby('id_turma', as_index=False)['media_final'].mean() \\\n",
    "                    .rename(columns={'media_final': 'media_turma'})\n",
    "\n",
    "# Calculando media_faltas\n",
    "media_faltas = novo.groupby('id_turma', as_index=False)['numero_total_faltas'].mean() \\\n",
    "                    .rename(columns={'numero_total_faltas': 'media_faltas'})\n",
    "\n",
    "# Calculando qnt_reposicao\n",
    "qnt_reposicao = novo[novo.reposicao == 't'].groupby('id_turma', as_index=False)['reposicao'].count() \\\n",
    "                    .rename(columns={'reposicao': 'qnt_reposicao'})\n",
    "\n",
    "# Calculando qnt_aprovados\n",
    "aprovados = ['APROVADO', 'APROVADO POR NOTA']\n",
    "qnt_aprovados = novo[novo.descricao.isin(aprovados)].groupby('id_turma', as_index=False)['descricao'].count() \\\n",
    "                    .rename(columns={'descricao': 'qnt_aprovados'})\n",
    "\n",
    "# Calculando qnt_reprovados\n",
    "reprovado = ['REPROVADO', 'REPROVADO POR NOTA', 'REPROVADO POR FALTAS', \n",
    "             'REPROVADO POR NOTA E FALTA', 'REPROVADO POR MÉDIA E POR FALTAS']\n",
    "qnt_reprovados = novo[novo.descricao.isin(reprovado)].groupby('id_turma', as_index=False)['descricao'].count() \\\n",
    "                    .rename(columns={'descricao': 'qnt_reprovados'})\n",
    "\n",
    "# Calculando qnt_trancamento\n",
    "trancado = ['CANCELADO', 'EXCLUIDA', 'TRANCADO']\n",
    "qnt_trancamento = novo[novo.descricao.isin(trancado)].groupby('id_turma', as_index=False)['descricao'].count() \\\n",
    "                    .rename(columns={'descricao': 'qnt_trancamento'})"
   ]
  },
  {
   "cell_type": "code",
   "execution_count": 16,
   "metadata": {},
   "outputs": [],
   "source": [
    "# mesclando os datasets\n",
    "turmas = pd.merge(left=qnt_disc, right=qnt_aprovados, how='outer')\n",
    "turmas = pd.merge(left=turmas, right=qnt_reprovados, how='outer')\n",
    "turmas = pd.merge(left=turmas, right=qnt_trancamento, how='outer')"
   ]
  },
  {
   "cell_type": "code",
   "execution_count": 17,
   "metadata": {},
   "outputs": [
    {
     "data": {
      "text/html": [
       "<div>\n",
       "<style scoped>\n",
       "    .dataframe tbody tr th:only-of-type {\n",
       "        vertical-align: middle;\n",
       "    }\n",
       "\n",
       "    .dataframe tbody tr th {\n",
       "        vertical-align: top;\n",
       "    }\n",
       "\n",
       "    .dataframe thead th {\n",
       "        text-align: right;\n",
       "    }\n",
       "</style>\n",
       "<table border=\"1\" class=\"dataframe\">\n",
       "  <thead>\n",
       "    <tr style=\"text-align: right;\">\n",
       "      <th></th>\n",
       "      <th>id_turma</th>\n",
       "      <th>qnt_disc</th>\n",
       "      <th>qnt_aprovados</th>\n",
       "      <th>qnt_reprovados</th>\n",
       "      <th>qnt_trancamento</th>\n",
       "    </tr>\n",
       "  </thead>\n",
       "  <tbody>\n",
       "    <tr>\n",
       "      <th>69</th>\n",
       "      <td>57595026</td>\n",
       "      <td>105</td>\n",
       "      <td>58.0</td>\n",
       "      <td>41.0</td>\n",
       "      <td>6.0</td>\n",
       "    </tr>\n",
       "    <tr>\n",
       "      <th>78</th>\n",
       "      <td>57595045</td>\n",
       "      <td>106</td>\n",
       "      <td>17.0</td>\n",
       "      <td>85.0</td>\n",
       "      <td>4.0</td>\n",
       "    </tr>\n",
       "    <tr>\n",
       "      <th>79</th>\n",
       "      <td>57595046</td>\n",
       "      <td>120</td>\n",
       "      <td>76.0</td>\n",
       "      <td>41.0</td>\n",
       "      <td>3.0</td>\n",
       "    </tr>\n",
       "    <tr>\n",
       "      <th>80</th>\n",
       "      <td>57595047</td>\n",
       "      <td>122</td>\n",
       "      <td>74.0</td>\n",
       "      <td>45.0</td>\n",
       "      <td>3.0</td>\n",
       "    </tr>\n",
       "    <tr>\n",
       "      <th>82</th>\n",
       "      <td>57595051</td>\n",
       "      <td>104</td>\n",
       "      <td>21.0</td>\n",
       "      <td>72.0</td>\n",
       "      <td>11.0</td>\n",
       "    </tr>\n",
       "  </tbody>\n",
       "</table>\n",
       "</div>"
      ],
      "text/plain": [
       "    id_turma  qnt_disc  qnt_aprovados  qnt_reprovados  qnt_trancamento\n",
       "69  57595026       105           58.0            41.0              6.0\n",
       "78  57595045       106           17.0            85.0              4.0\n",
       "79  57595046       120           76.0            41.0              3.0\n",
       "80  57595047       122           74.0            45.0              3.0\n",
       "82  57595051       104           21.0            72.0             11.0"
      ]
     },
     "execution_count": 17,
     "metadata": {},
     "output_type": "execute_result"
    }
   ],
   "source": [
    "turmas[turmas.qnt_disc > 100].head()"
   ]
  },
  {
   "cell_type": "code",
   "execution_count": 18,
   "metadata": {},
   "outputs": [],
   "source": [
    "# Realizando o merge com as demais informações\n",
    "turma_geral = pd.merge(left=turmas, right=media_turma, how='outer')\n",
    "turma_geral = pd.merge(left=turma_geral, right=media_faltas, how='outer')\n",
    "turma_geral = pd.merge(left=turma_geral, right=qnt_reposicao, how='outer')\n",
    "\n",
    "# Preenchendo os valores vazios com 0\n",
    "turma_geral = turma_geral.fillna(value=0)"
   ]
  },
  {
   "cell_type": "code",
   "execution_count": 19,
   "metadata": {},
   "outputs": [],
   "source": [
    "turma_geral.to_csv('outputs/turmas_dados_2017_1.csv', sep=';', index=False)"
   ]
  }
 ],
 "metadata": {
  "kernelspec": {
   "display_name": "Python 3",
   "language": "python",
   "name": "python3"
  },
  "language_info": {
   "codemirror_mode": {
    "name": "ipython",
    "version": 3
   },
   "file_extension": ".py",
   "mimetype": "text/x-python",
   "name": "python",
   "nbconvert_exporter": "python",
   "pygments_lexer": "ipython3",
   "version": "3.6.7"
  }
 },
 "nbformat": 4,
 "nbformat_minor": 2
}
