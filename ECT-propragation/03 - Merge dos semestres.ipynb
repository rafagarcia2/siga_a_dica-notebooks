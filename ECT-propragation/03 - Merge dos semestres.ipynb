{
 "cells": [
  {
   "cell_type": "markdown",
   "metadata": {},
   "source": [
    "# Realizando o merge entre os semestres\n",
    "## Objetivo\n",
    "Esse notebook tem como fim fazer a junção entre vários semestre diferentes de C&T, começando em 2016.1\n",
    "\n",
    "O motivo da escolha por 2016.1 é a mudança da grade curricular que entrou em vigor nesse semestre."
   ]
  },
  {
   "cell_type": "code",
   "execution_count": null,
   "metadata": {},
   "outputs": [],
   "source": []
  }
 ],
 "metadata": {
  "kernelspec": {
   "display_name": "Python 3",
   "language": "python",
   "name": "python3"
  },
  "language_info": {
   "codemirror_mode": {
    "name": "ipython",
    "version": 3
   },
   "file_extension": ".py",
   "mimetype": "text/x-python",
   "name": "python",
   "nbconvert_exporter": "python",
   "pygments_lexer": "ipython3",
   "version": "3.6.6"
  }
 },
 "nbformat": 4,
 "nbformat_minor": 2
}
