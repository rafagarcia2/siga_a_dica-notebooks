{
 "cells": [
  {
   "cell_type": "markdown",
   "metadata": {},
   "source": [
    "# Montando os dados da Turma\n",
    "Nesse notebooks iremos juntas os dados das turmas e tentar montar essa tabela"
   ]
  },
  {
   "cell_type": "code",
   "execution_count": 3,
   "metadata": {},
   "outputs": [],
   "source": [
    "import pandas as pd\n",
    "import numpy as np"
   ]
  },
  {
   "cell_type": "code",
   "execution_count": 4,
   "metadata": {},
   "outputs": [],
   "source": [
    "turmas = pd.read_csv('data/turmas-20172.csv', sep=';')"
   ]
  },
  {
   "cell_type": "code",
   "execution_count": 5,
   "metadata": {},
   "outputs": [
    {
     "data": {
      "text/plain": [
       "Index(['id_turma', 'codigo_turma', 'id_docente_interno', 'id_docente_externo',\n",
       "       'observacao', 'id_componente_curricular', 'nivel_ensino',\n",
       "       'campus_turma', 'local', 'ano', 'periodo', 'data_inicio', 'data_fim',\n",
       "       'descricao_horario', 'total_solicitacoes', 'capacidade_aluno', 'tipo',\n",
       "       'distancia', 'data_consolidacao', 'agrupadora', 'id_turma_agrupadora',\n",
       "       'qtd_aulas_lancadas', 'situacao_turma', 'convenio',\n",
       "       'modalidade_participantes', 'Unnamed: 25'],\n",
       "      dtype='object')"
      ]
     },
     "execution_count": 5,
     "metadata": {},
     "output_type": "execute_result"
    }
   ],
   "source": [
    "turmas.columns"
   ]
  },
  {
   "cell_type": "code",
   "execution_count": 6,
   "metadata": {},
   "outputs": [],
   "source": [
    "# importando disciplinas\n",
    "disciplinas = pd.read_csv(\"outputs/displicinas_cet.csv\", sep=';')"
   ]
  },
  {
   "cell_type": "code",
   "execution_count": 24,
   "metadata": {},
   "outputs": [
    {
     "name": "stderr",
     "output_type": "stream",
     "text": [
      "/home/rafael/anaconda3/lib/python3.6/site-packages/ipykernel_launcher.py:3: SettingWithCopyWarning: \n",
      "A value is trying to be set on a copy of a slice from a DataFrame.\n",
      "Try using .loc[row_indexer,col_indexer] = value instead\n",
      "\n",
      "See the caveats in the documentation: http://pandas.pydata.org/pandas-docs/stable/indexing.html#indexing-view-versus-copy\n",
      "  This is separate from the ipykernel package so we can avoid doing imports until\n"
     ]
    },
    {
     "data": {
      "text/plain": [
       "(14472, 4)"
      ]
     },
     "execution_count": 24,
     "metadata": {},
     "output_type": "execute_result"
    }
   ],
   "source": [
    "turmas_base = turmas[['id_turma', 'id_docente_interno', 'id_componente_curricular']]\n",
    "turmas_base.rename(index=str, columns={\"id_componente_curricular\": \"id_componente\"}, inplace=True)\n",
    "turmas_base['anoperiodo'] = '2017.2'\n",
    "turmas_base.shape"
   ]
  },
  {
   "cell_type": "code",
   "execution_count": 20,
   "metadata": {},
   "outputs": [
    {
     "data": {
      "text/plain": [
       "(47, 3)"
      ]
     },
     "execution_count": 20,
     "metadata": {},
     "output_type": "execute_result"
    }
   ],
   "source": [
    "disc_base = ['id_componente', 'nome', 'codigo']\n",
    "disc_ect = disciplinas[disc_base]\n",
    "disc_ect.shape"
   ]
  },
  {
   "cell_type": "code",
   "execution_count": 11,
   "metadata": {},
   "outputs": [
    {
     "data": {
      "text/plain": [
       "(646, 12)"
      ]
     },
     "execution_count": 11,
     "metadata": {},
     "output_type": "execute_result"
    }
   ],
   "source": [
    "# Lendo turmas de CeT\n",
    "matr_cet = pd.read_csv(\"outputs/turmas_dados_2017_2.csv\", sep=\";\")\n",
    "matr_cet.shape"
   ]
  },
  {
   "cell_type": "code",
   "execution_count": 44,
   "metadata": {},
   "outputs": [
    {
     "data": {
      "text/plain": [
       "(772, 15)"
      ]
     },
     "execution_count": 44,
     "metadata": {},
     "output_type": "execute_result"
    }
   ],
   "source": [
    "turma_ax = pd.merge(left=turmas_base, right=matr_cet, how='inner')\n",
    "turma_ax.head()\n",
    "turma_ax.dropna(inplace=True)\n",
    "turma_ax.shape"
   ]
  },
  {
   "cell_type": "code",
   "execution_count": 53,
   "metadata": {},
   "outputs": [],
   "source": [
    "#0turma_ax['professor'] = turma_ax[['id_docente_interno']].applymap(np.int64)\n",
    "turma_ax.rename(columns={'id_componente': 'disciplina', 'id_docente_interno': 'professor', \\\n",
    "                        'id_turma': 'codigo'}, inplace=True)"
   ]
  },
  {
   "cell_type": "code",
   "execution_count": 55,
   "metadata": {},
   "outputs": [],
   "source": [
    "turma_ax.to_csv(\"outputs/turmas_20172_final.csv\", sep=\",\", encoding=\"UTF-8\")"
   ]
  }
 ],
 "metadata": {
  "kernelspec": {
   "display_name": "Python 3",
   "language": "python",
   "name": "python3"
  },
  "language_info": {
   "codemirror_mode": {
    "name": "ipython",
    "version": 3
   },
   "file_extension": ".py",
   "mimetype": "text/x-python",
   "name": "python",
   "nbconvert_exporter": "python",
   "pygments_lexer": "ipython3",
   "version": "3.6.6"
  }
 },
 "nbformat": 4,
 "nbformat_minor": 2
}
